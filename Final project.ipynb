{
 "cells": [
  {
   "cell_type": "markdown",
   "id": "f8c89890",
   "metadata": {},
   "source": [
    "# Final Project - ASL Alphabet"
   ]
  },
  {
   "cell_type": "markdown",
   "id": "df0d30c2",
   "metadata": {},
   "source": [
    "## 1. Pre-processing"
   ]
  },
  {
   "cell_type": "markdown",
   "id": "193b7094",
   "metadata": {},
   "source": [
    "Imports:"
   ]
  },
  {
   "cell_type": "code",
   "execution_count": 2,
   "id": "c44f88dc",
   "metadata": {},
   "outputs": [],
   "source": [
    "import os\n",
    "import numpy as np\n",
    "import cv2\n",
    "from tqdm import tqdm\n",
    "from random import shuffle\n",
    "from matplotlib import pyplot as plt\n",
    "from matplotlib.image import imread\n",
    "from os import listdir\n",
    "from numpy import asarray\n",
    "from numpy import save\n",
    "from tensorflow.keras.utils import load_img\n",
    "from tensorflow.keras.utils import img_to_array\n",
    "from numpy import load\n",
    "from os import makedirs\n",
    "from os import listdir\n",
    "from shutil import copyfile\n",
    "from random import seed\n",
    "from random import random\n",
    "from keras.preprocessing.image import ImageDataGenerator\n",
    "import tensorflow as tf\n",
    "from tensorflow import keras\n",
    "from keras import layers\n",
    "from tensorflow.keras import utils\n",
    "from sklearn.metrics import confusion_matrix\n",
    "import seaborn as sns"
   ]
  },
  {
   "cell_type": "code",
   "execution_count": 3,
   "id": "878bdfc9",
   "metadata": {},
   "outputs": [],
   "source": [
    "TRAIN_DIR = 'asl_alphabet_train/asl_alphabet_train'\n",
    "TEST_DIR = 'asl_alphabet_test/asl_alphabet_test'"
   ]
  },
  {
   "cell_type": "markdown",
   "id": "2d8d4fd0",
   "metadata": {},
   "source": [
    "### Get images:"
   ]
  },
  {
   "cell_type": "markdown",
   "id": "2edb3d48",
   "metadata": {},
   "source": [
    "Classes:"
   ]
  },
  {
   "cell_type": "code",
   "execution_count": 4,
   "id": "9acd221e",
   "metadata": {},
   "outputs": [],
   "source": [
    "classes = ['A', 'B', 'C', 'D','del', 'E', 'F', 'G', 'H', 'I', 'J', 'K', \n",
    "           'L', 'M', 'N','nothing', 'O', 'P', 'Q', 'R', 'S','space', 'T', 'U', 'V', \n",
    "           'W', 'X', 'Y', 'Z' ]"
   ]
  },
  {
   "cell_type": "code",
   "execution_count": 5,
   "id": "208ed922",
   "metadata": {},
   "outputs": [],
   "source": [
    "ImageDataGenerator = keras.preprocessing.image.ImageDataGenerator\n",
    "gen = ImageDataGenerator()"
   ]
  },
  {
   "cell_type": "code",
   "execution_count": 6,
   "id": "cfa03148",
   "metadata": {},
   "outputs": [
    {
     "name": "stdout",
     "output_type": "stream",
     "text": [
      "Found 87000 images belonging to 29 classes.\n"
     ]
    }
   ],
   "source": [
    "iterator = gen.flow_from_directory(TRAIN_DIR, target_size=(32,32),classes=(classes))"
   ]
  },
  {
   "cell_type": "markdown",
   "id": "2e238783",
   "metadata": {},
   "source": [
    "Shape of the data:"
   ]
  },
  {
   "cell_type": "code",
   "execution_count": 7,
   "id": "b045aef1",
   "metadata": {},
   "outputs": [
    {
     "name": "stdout",
     "output_type": "stream",
     "text": [
      "(32, 32, 32, 3)\n",
      "float32\n",
      "255.0\n",
      "(32, 29)\n",
      "float32\n"
     ]
    }
   ],
   "source": [
    "batch = iterator.next()\n",
    "print(batch[0].shape)\n",
    "print(batch[0].dtype)\n",
    "print(batch[0].max())\n",
    "print(batch[1].shape)\n",
    "print(batch[1].dtype)"
   ]
  },
  {
   "cell_type": "markdown",
   "id": "2b9957b7",
   "metadata": {},
   "source": [
    "Display a sample of the data:"
   ]
  },
  {
   "cell_type": "code",
   "execution_count": 8,
   "id": "fe4a9e18",
   "metadata": {},
   "outputs": [
    {
     "name": "stderr",
     "output_type": "stream",
     "text": [
      "C:\\Users\\marni\\anaconda3\\lib\\site-packages\\matplotlib\\text.py:1223: FutureWarning: elementwise comparison failed; returning scalar instead, but in the future will perform elementwise comparison\n",
      "  if s != self._text:\n"
     ]
    },
    {
     "data": {
      "text/plain": [
       "<matplotlib.image.AxesImage at 0x1eadf8ea3d0>"
      ]
     },
     "execution_count": 8,
     "metadata": {},
     "output_type": "execute_result"
    },
    {
     "data": {
      "text/plain": [
       "<Figure size 432x288 with 0 Axes>"
      ]
     },
     "metadata": {},
     "output_type": "display_data"
    },
    {
     "data": {
      "image/png": "[encoded data removed]",
      "text/plain": [
       "<Figure size 1152x360 with 1 Axes>"
      ]
     },
     "metadata": {},
     "output_type": "display_data"
    }
   ],
   "source": [
    "figure = plt.figure()\n",
    "plt.figure(figsize=(16,5))\n",
    "plt.xticks([])\n",
    "plt.yticks([])\n",
    "plt.xlabel(batch[1][4])\n",
    "plt.imshow(batch[0][4].astype(int))"
   ]
  },
  {
   "cell_type": "markdown",
   "id": "c3c91a5f",
   "metadata": {},
   "source": [
    "Pre-process the data:"
   ]
  },
  {
   "cell_type": "code",
   "execution_count": 9,
   "id": "46ca462b",
   "metadata": {},
   "outputs": [],
   "source": [
    "imgdatagen = ImageDataGenerator(rescale=1/255.0, validation_split = 0.2)\n",
    "batch_size = 64\n",
    "height, width = (32,32)"
   ]
  },
  {
   "cell_type": "code",
   "execution_count": 10,
   "id": "aa1b8add",
   "metadata": {},
   "outputs": [
    {
     "name": "stdout",
     "output_type": "stream",
     "text": [
      "Found 69600 images belonging to 29 classes.\n",
      "Found 17400 images belonging to 29 classes.\n"
     ]
    }
   ],
   "source": [
    "train_dataset = imgdatagen.flow_from_directory(\n",
    "TRAIN_DIR,\n",
    "target_size = (height, width),\n",
    "batch_size = batch_size,\n",
    "class_mode='categorical',\n",
    "subset = 'training',\n",
    "shuffle=True\n",
    ")\n",
    "\n",
    "val_dataset = imgdatagen.flow_from_directory(\n",
    "TRAIN_DIR,\n",
    "target_size = (height, width),\n",
    "class_mode='categorical',\n",
    "batch_size = batch_size,\n",
    "subset = 'validation',\n",
    "shuffle=False\n",
    ")"
   ]
  },
  {
   "cell_type": "markdown",
   "id": "ed919c59",
   "metadata": {},
   "source": [
    "## 2. Baseline"
   ]
  },
  {
   "cell_type": "markdown",
   "id": "5348423b",
   "metadata": {},
   "source": [
    "Determine baseline accuracy needed:"
   ]
  },
  {
   "cell_type": "code",
   "execution_count": 15,
   "id": "c86d84b0",
   "metadata": {},
   "outputs": [
    {
     "name": "stdout",
     "output_type": "stream",
     "text": [
      "3.4482758620689653\n"
     ]
    }
   ],
   "source": [
    "print(1/len(classes)*100)"
   ]
  },
  {
   "cell_type": "code",
   "execution_count": 16,
   "id": "98ebe38c",
   "metadata": {},
   "outputs": [],
   "source": [
    "baseline_model = tf.keras.Sequential()\n",
    "baseline_model.add(layers.Conv2D(32, (3,3), activation='relu', input_shape=(32,32,3)))\n",
    "baseline_model.add(layers.MaxPooling2D((2,2)))\n",
    "baseline_model.add(layers.Conv2D(64, (3,3), activation='relu'))\n",
    "baseline_model.add(layers.Flatten())\n",
    "baseline_model.add(layers.Dense(128, activation='relu'))\n",
    "baseline_model.add(layers.Dense(29, activation='softmax'))\n",
    "baseline_model.compile(optimizer='rmsprop',\n",
    "loss='categorical_crossentropy',\n",
    "metrics=['acc'])"
   ]
  },
  {
   "cell_type": "code",
   "execution_count": 17,
   "id": "0493ed41",
   "metadata": {
    "scrolled": true
   },
   "outputs": [
    {
     "name": "stdout",
     "output_type": "stream",
     "text": [
      "Model: \"sequential\"\n",
      "_________________________________________________________________\n",
      " Layer (type)                Output Shape              Param #   \n",
      "=================================================================\n",
      " conv2d (Conv2D)             (None, 30, 30, 32)        896       \n",
      "                                                                 \n",
      " max_pooling2d (MaxPooling2D  (None, 15, 15, 32)       0         \n",
      " )                                                               \n",
      "                                                                 \n",
      " conv2d_1 (Conv2D)           (None, 13, 13, 64)        18496     \n",
      "                                                                 \n",
      " flatten (Flatten)           (None, 10816)             0         \n",
      "                                                                 \n",
      " dense (Dense)               (None, 128)               1384576   \n",
      "                                                                 \n",
      " dense_1 (Dense)             (None, 29)                3741      \n",
      "                                                                 \n",
      "=================================================================\n",
      "Total params: 1,407,709\n",
      "Trainable params: 1,407,709\n",
      "Non-trainable params: 0\n",
      "_________________________________________________________________\n"
     ]
    }
   ],
   "source": [
    "baseline_model.summary()"
   ]
  },
  {
   "cell_type": "code",
   "execution_count": 18,
   "id": "0e3ee1d6",
   "metadata": {},
   "outputs": [
    {
     "name": "stdout",
     "output_type": "stream",
     "text": [
      "Epoch 1/5\n",
      "1088/1088 [==============================] - 726s 667ms/step - loss: 1.2107 - acc: 0.6419 - val_loss: 1.5386 - val_acc: 0.5380\n",
      "Epoch 2/5\n",
      "1088/1088 [==============================] - 167s 153ms/step - loss: 0.2001 - acc: 0.9364 - val_loss: 1.6877 - val_acc: 0.6155\n",
      "Epoch 3/5\n",
      "1088/1088 [==============================] - 162s 149ms/step - loss: 0.0762 - acc: 0.9753 - val_loss: 1.8739 - val_acc: 0.6306\n",
      "Epoch 4/5\n",
      "1088/1088 [==============================] - 165s 152ms/step - loss: 0.0424 - acc: 0.9868 - val_loss: 2.2052 - val_acc: 0.6448\n",
      "Epoch 5/5\n",
      "1088/1088 [==============================] - 169s 155ms/step - loss: 0.0280 - acc: 0.9912 - val_loss: 2.2121 - val_acc: 0.6434\n"
     ]
    }
   ],
   "source": [
    "baseline_model_history = baseline_model.fit(train_dataset, epochs=5, batch_size=batch_size, validation_data=val_dataset)"
   ]
  },
  {
   "cell_type": "code",
   "execution_count": 11,
   "id": "a75c6467",
   "metadata": {},
   "outputs": [],
   "source": [
    "def plot_epochs(x, y_A, style_A, label_A,\n",
    "    y_B, style_B, label_B,\n",
    "    title, x_label, y_label):\n",
    "    plt.clf()\n",
    "    plt.plot(x, y_A, style_A, label = label_A)\n",
    "    plt.plot(x, y_B, style_B, label = label_B)\n",
    "    plt.title(title)\n",
    "    plt.xlabel(x_label)\n",
    "    plt.ylabel(y_label)\n",
    "    plt.legend()\n",
    "    plt.show()"
   ]
  },
  {
   "cell_type": "code",
   "execution_count": 21,
   "id": "2eca5d5b",
   "metadata": {
    "scrolled": true
   },
   "outputs": [],
   "source": [
    "loss = baseline_model_history.history['loss']\n",
    "val_loss = baseline_model_history.history['val_loss']\n",
    "acc = baseline_model_history.history['acc']\n",
    "val_acc = baseline_model_history.history['val_acc']"
   ]
  },
  {
   "cell_type": "code",
   "execution_count": 16,
   "id": "3cdab848",
   "metadata": {},
   "outputs": [
    {
     "ename": "NameError",
     "evalue": "name 'plot_epochs' is not defined",
     "output_type": "error",
     "traceback": [
      "\u001b[1;31m---------------------------------------------------------------------------\u001b[0m",
      "\u001b[1;31mNameError\u001b[0m                                 Traceback (most recent call last)",
      "\u001b[1;32m<ipython-input-16-ef886161974f>\u001b[0m in \u001b[0;36m<module>\u001b[1;34m\u001b[0m\n\u001b[1;32m----> 1\u001b[1;33m plot_epochs(range(1, len(loss) + 1),\n\u001b[0m\u001b[0;32m      2\u001b[0m \u001b[0mloss\u001b[0m\u001b[1;33m,\u001b[0m \u001b[1;34m'bo'\u001b[0m\u001b[1;33m,\u001b[0m \u001b[1;34m'Training'\u001b[0m\u001b[1;33m,\u001b[0m \u001b[0mval_loss\u001b[0m\u001b[1;33m,\u001b[0m \u001b[1;34m'b'\u001b[0m\u001b[1;33m,\u001b[0m\u001b[1;33m\u001b[0m\u001b[1;33m\u001b[0m\u001b[0m\n\u001b[0;32m      3\u001b[0m \u001b[1;34m'Validation'\u001b[0m\u001b[1;33m,\u001b[0m \u001b[1;34m'Training and validation loss'\u001b[0m\u001b[1;33m,\u001b[0m\u001b[1;33m\u001b[0m\u001b[1;33m\u001b[0m\u001b[0m\n\u001b[0;32m      4\u001b[0m 'Epochs', 'Loss')\n",
      "\u001b[1;31mNameError\u001b[0m: name 'plot_epochs' is not defined"
     ]
    }
   ],
   "source": [
    "plot_epochs(range(1, len(loss) + 1),\n",
    "loss, 'bo', 'Training', val_loss, 'b',\n",
    "'Validation', 'Training and validation loss',\n",
    "'Epochs', 'Loss')"
   ]
  },
  {
   "cell_type": "code",
   "execution_count": 23,
   "id": "7d2766ff",
   "metadata": {
    "scrolled": true
   },
   "outputs": [
    {
     "data": {
      "image/png": "[encoded data removed]",
      "text/plain": [
       "<Figure size 432x288 with 1 Axes>"
      ]
     },
     "metadata": {
      "needs_background": "light"
     },
     "output_type": "display_data"
    }
   ],
   "source": [
    "plot_epochs(range(1, len(loss) + 1),\n",
    "loss, 'bo', 'Training', val_acc, 'b',\n",
    "'Validation', 'Training and validation accuracy',\n",
    "'Epochs', 'Accuracy')"
   ]
  },
  {
   "cell_type": "markdown",
   "id": "3c41ff09",
   "metadata": {},
   "source": [
    "# 3. More complex implementations"
   ]
  },
  {
   "cell_type": "markdown",
   "id": "57819b03",
   "metadata": {},
   "source": [
    "### 3.1 Adding dropout"
   ]
  },
  {
   "cell_type": "code",
   "execution_count": 11,
   "id": "dc85d51d",
   "metadata": {},
   "outputs": [],
   "source": [
    "dropout_model = tf.keras.Sequential()\n",
    "dropout_model.add(layers.Conv2D(32, (3,3), activation='relu', input_shape=(32,32,3)))\n",
    "dropout_model.add(layers.MaxPooling2D((2,2)))\n",
    "dropout_model.add(layers.Conv2D(64, (3,3), activation='relu'))\n",
    "dropout_model.add(layers.Flatten())\n",
    "dropout_model.add(layers.Dropout(0.5))\n",
    "dropout_model.add(layers.Dense(128, activation='relu'))\n",
    "dropout_model.add(layers.Dense(29, activation='softmax'))\n",
    "dropout_model.compile(optimizer='rmsprop',\n",
    "loss='categorical_crossentropy',\n",
    "metrics=['acc'])"
   ]
  },
  {
   "cell_type": "code",
   "execution_count": 12,
   "id": "57ea4c49",
   "metadata": {
    "scrolled": true
   },
   "outputs": [
    {
     "name": "stdout",
     "output_type": "stream",
     "text": [
      "Model: \"sequential\"\n",
      "_________________________________________________________________\n",
      " Layer (type)                Output Shape              Param #   \n",
      "=================================================================\n",
      " conv2d (Conv2D)             (None, 30, 30, 32)        896       \n",
      "                                                                 \n",
      " max_pooling2d (MaxPooling2D  (None, 15, 15, 32)       0         \n",
      " )                                                               \n",
      "                                                                 \n",
      " conv2d_1 (Conv2D)           (None, 13, 13, 64)        18496     \n",
      "                                                                 \n",
      " flatten (Flatten)           (None, 10816)             0         \n",
      "                                                                 \n",
      " dropout (Dropout)           (None, 10816)             0         \n",
      "                                                                 \n",
      " dense (Dense)               (None, 128)               1384576   \n",
      "                                                                 \n",
      " dense_1 (Dense)             (None, 29)                3741      \n",
      "                                                                 \n",
      "=================================================================\n",
      "Total params: 1,407,709\n",
      "Trainable params: 1,407,709\n",
      "Non-trainable params: 0\n",
      "_________________________________________________________________\n"
     ]
    }
   ],
   "source": [
    "dropout_model.summary()"
   ]
  },
  {
   "cell_type": "code",
   "execution_count": 13,
   "id": "1d183ec4",
   "metadata": {
    "scrolled": true
   },
   "outputs": [
    {
     "name": "stdout",
     "output_type": "stream",
     "text": [
      "Epoch 1/10\n",
      "1088/1088 [==============================] - 1063s 977ms/step - loss: 1.2322 - acc: 0.6314 - val_loss: 1.7288 - val_acc: 0.5278\n",
      "Epoch 2/10\n",
      "1088/1088 [==============================] - 176s 162ms/step - loss: 0.2759 - acc: 0.9111 - val_loss: 1.6298 - val_acc: 0.5777\n",
      "Epoch 3/10\n",
      "1088/1088 [==============================] - 192s 177ms/step - loss: 0.1414 - acc: 0.9528 - val_loss: 1.4743 - val_acc: 0.6419\n",
      "Epoch 4/10\n",
      "1088/1088 [==============================] - 190s 175ms/step - loss: 0.0926 - acc: 0.9685 - val_loss: 1.7620 - val_acc: 0.6569\n",
      "Epoch 5/10\n",
      "1088/1088 [==============================] - 184s 169ms/step - loss: 0.0693 - acc: 0.9765 - val_loss: 1.6405 - val_acc: 0.6811\n",
      "Epoch 6/10\n",
      "1088/1088 [==============================] - 174s 160ms/step - loss: 0.0551 - acc: 0.9814 - val_loss: 1.8490 - val_acc: 0.6870\n",
      "Epoch 7/10\n",
      "1088/1088 [==============================] - 182s 167ms/step - loss: 0.0484 - acc: 0.9845 - val_loss: 1.7683 - val_acc: 0.6854\n",
      "Epoch 8/10\n",
      "1088/1088 [==============================] - 180s 166ms/step - loss: 0.0414 - acc: 0.9863 - val_loss: 1.8568 - val_acc: 0.6972\n",
      "Epoch 9/10\n",
      "1088/1088 [==============================] - 183s 169ms/step - loss: 0.0368 - acc: 0.9880 - val_loss: 2.1781 - val_acc: 0.6914\n",
      "Epoch 10/10\n",
      "1088/1088 [==============================] - 222s 204ms/step - loss: 0.0349 - acc: 0.9892 - val_loss: 2.1773 - val_acc: 0.6672\n"
     ]
    }
   ],
   "source": [
    "dropout_model_history = dropout_model.fit(train_dataset, epochs=10, batch_size=batch_size, validation_data=val_dataset)"
   ]
  },
  {
   "cell_type": "markdown",
   "id": "5fbb7fa6",
   "metadata": {},
   "source": [
    "Results:"
   ]
  },
  {
   "cell_type": "code",
   "execution_count": 14,
   "id": "5694f184",
   "metadata": {},
   "outputs": [],
   "source": [
    "loss = dropout_model_history.history['loss']\n",
    "val_loss = dropout_model_history.history['val_loss']\n",
    "acc = dropout_model_history.history['acc']\n",
    "val_acc = dropout_model_history.history['val_acc']"
   ]
  },
  {
   "cell_type": "code",
   "execution_count": 19,
   "id": "0831ed65",
   "metadata": {
    "scrolled": true
   },
   "outputs": [
    {
     "data": {
      "image/png": "[encoded data removed]",
      "text/plain": [
       "<Figure size 432x288 with 1 Axes>"
      ]
     },
     "metadata": {
      "needs_background": "light"
     },
     "output_type": "display_data"
    }
   ],
   "source": [
    "plot_epochs(range(1, len(loss) + 1),\n",
    "acc, 'bo', 'Training', val_acc, 'b',\n",
    "'Validation', 'Training and validation accuracy',\n",
    "'Epochs', 'Accuracy')"
   ]
  },
  {
   "cell_type": "code",
   "execution_count": 20,
   "id": "24ac2507",
   "metadata": {
    "scrolled": false
   },
   "outputs": [
    {
     "data": {
      "image/png": "[encoded data removed]",
      "text/plain": [
       "<Figure size 432x288 with 1 Axes>"
      ]
     },
     "metadata": {
      "needs_background": "light"
     },
     "output_type": "display_data"
    }
   ],
   "source": [
    "plot_epochs(range(1,len(loss) + 1),\n",
    "            loss, 'bo','Training',\n",
    "            val_loss,'b','Validation',\n",
    "            'Training and validation loss',\n",
    "            'Epochs','Loss')"
   ]
  },
  {
   "cell_type": "markdown",
   "id": "1448c9f5",
   "metadata": {},
   "source": [
    "### 3.2 Adding more dropout between layers"
   ]
  },
  {
   "cell_type": "code",
   "execution_count": 25,
   "id": "0f2c19bf",
   "metadata": {},
   "outputs": [],
   "source": [
    "dropout_model2 = tf.keras.Sequential()\n",
    "dropout_model2.add(layers.Conv2D(32, (3,3), activation='relu', input_shape=(32,32,3)))\n",
    "dropout_model2.add(layers.MaxPooling2D((2,2)))\n",
    "dropout_model2.add(layers.Dropout(0.5))\n",
    "dropout_model2.add(layers.Conv2D(64, (3,3), activation='relu'))\n",
    "dropout_model2.add(layers.Flatten())\n",
    "dropout_model2.add(layers.Dropout(0.5))\n",
    "dropout_model2.add(layers.Dense(128, activation='relu'))\n",
    "dropout_model2.add(layers.Dense(29, activation='softmax'))\n",
    "dropout_model2.compile(optimizer='rmsprop',\n",
    "loss='categorical_crossentropy',\n",
    "metrics=['acc'])"
   ]
  },
  {
   "cell_type": "code",
   "execution_count": 26,
   "id": "aacb47ce",
   "metadata": {
    "scrolled": true
   },
   "outputs": [
    {
     "name": "stdout",
     "output_type": "stream",
     "text": [
      "Model: \"sequential_3\"\n",
      "_________________________________________________________________\n",
      " Layer (type)                Output Shape              Param #   \n",
      "=================================================================\n",
      " conv2d_6 (Conv2D)           (None, 30, 30, 32)        896       \n",
      "                                                                 \n",
      " max_pooling2d_4 (MaxPooling  (None, 15, 15, 32)       0         \n",
      " 2D)                                                             \n",
      "                                                                 \n",
      " dropout_4 (Dropout)         (None, 15, 15, 32)        0         \n",
      "                                                                 \n",
      " conv2d_7 (Conv2D)           (None, 13, 13, 64)        18496     \n",
      "                                                                 \n",
      " flatten_3 (Flatten)         (None, 10816)             0         \n",
      "                                                                 \n",
      " dropout_5 (Dropout)         (None, 10816)             0         \n",
      "                                                                 \n",
      " dense_6 (Dense)             (None, 128)               1384576   \n",
      "                                                                 \n",
      " dense_7 (Dense)             (None, 29)                3741      \n",
      "                                                                 \n",
      "=================================================================\n",
      "Total params: 1,407,709\n",
      "Trainable params: 1,407,709\n",
      "Non-trainable params: 0\n",
      "_________________________________________________________________\n"
     ]
    }
   ],
   "source": [
    "dropout_model2.summary()"
   ]
  },
  {
   "cell_type": "code",
   "execution_count": 27,
   "id": "da92529c",
   "metadata": {},
   "outputs": [
    {
     "name": "stdout",
     "output_type": "stream",
     "text": [
      "Epoch 1/10\n",
      "1088/1088 [==============================] - 170s 155ms/step - loss: 1.5909 - acc: 0.5209 - val_loss: 1.8003 - val_acc: 0.4565\n",
      "Epoch 2/10\n",
      "1088/1088 [==============================] - 180s 165ms/step - loss: 0.5215 - acc: 0.8285 - val_loss: 1.5860 - val_acc: 0.5322\n",
      "Epoch 3/10\n",
      "1088/1088 [==============================] - 176s 162ms/step - loss: 0.3050 - acc: 0.8988 - val_loss: 1.3197 - val_acc: 0.6203\n",
      "Epoch 4/10\n",
      "1088/1088 [==============================] - 176s 161ms/step - loss: 0.2181 - acc: 0.9262 - val_loss: 1.4508 - val_acc: 0.6360\n",
      "Epoch 5/10\n",
      "1088/1088 [==============================] - 181s 166ms/step - loss: 0.1704 - acc: 0.9429 - val_loss: 1.3243 - val_acc: 0.6693\n",
      "Epoch 6/10\n",
      "1088/1088 [==============================] - 179s 165ms/step - loss: 0.1383 - acc: 0.9540 - val_loss: 1.6153 - val_acc: 0.6197\n",
      "Epoch 7/10\n",
      "1088/1088 [==============================] - 185s 170ms/step - loss: 0.1176 - acc: 0.9597 - val_loss: 1.3745 - val_acc: 0.6774\n",
      "Epoch 8/10\n",
      "1088/1088 [==============================] - 184s 169ms/step - loss: 0.1033 - acc: 0.9659 - val_loss: 1.5512 - val_acc: 0.6859\n",
      "Epoch 9/10\n",
      "1088/1088 [==============================] - 185s 170ms/step - loss: 0.0926 - acc: 0.9693 - val_loss: 1.6142 - val_acc: 0.6887\n",
      "Epoch 10/10\n",
      "1088/1088 [==============================] - 181s 166ms/step - loss: 0.0864 - acc: 0.9714 - val_loss: 1.6612 - val_acc: 0.6836\n"
     ]
    }
   ],
   "source": [
    "dropout_model2_history = dropout_model2.fit(train_dataset, epochs=10, batch_size=batch_size, validation_data=val_dataset)"
   ]
  },
  {
   "cell_type": "code",
   "execution_count": 38,
   "id": "a30b9b33",
   "metadata": {},
   "outputs": [],
   "source": [
    "loss = dropout_model2_history.history['loss']\n",
    "val_loss = dropout_model2_history.history['val_loss']\n",
    "acc = dropout_model2_history.history['acc']\n",
    "val_acc = dropout_model2_history.history['val_acc']"
   ]
  },
  {
   "cell_type": "code",
   "execution_count": 39,
   "id": "3387f4e7",
   "metadata": {},
   "outputs": [
    {
     "data": {
      "image/png": "[encoded data removed]",
      "text/plain": [
       "<Figure size 432x288 with 1 Axes>"
      ]
     },
     "metadata": {
      "needs_background": "light"
     },
     "output_type": "display_data"
    }
   ],
   "source": [
    "plot_epochs(range(1, len(loss) + 1),\n",
    "acc, 'bo', 'Training', val_acc, 'b',\n",
    "'Validation', 'Training and validation accuracy',\n",
    "'Epochs', 'Accuracy')"
   ]
  },
  {
   "cell_type": "code",
   "execution_count": 40,
   "id": "2ec5aacd",
   "metadata": {},
   "outputs": [
    {
     "data": {
      "image/png": "[encoded data removed]",
      "text/plain": [
       "<Figure size 432x288 with 1 Axes>"
      ]
     },
     "metadata": {
      "needs_background": "light"
     },
     "output_type": "display_data"
    }
   ],
   "source": [
    "plot_epochs(range(1,len(loss) + 1),\n",
    "            loss, 'bo','Training',\n",
    "            val_loss,'b','Validation',\n",
    "            'Training and validation loss',\n",
    "            'Epochs','Loss')"
   ]
  },
  {
   "cell_type": "markdown",
   "id": "b97168c0",
   "metadata": {},
   "source": [
    "### 3.3 Adding another Conv2D layer"
   ]
  },
  {
   "cell_type": "markdown",
   "id": "262359d3",
   "metadata": {},
   "source": [
    "Callbacks are added to monitor certain metrics and adjust learning rate or cause a quick exit in order to save time and computing power."
   ]
  },
  {
   "cell_type": "code",
   "execution_count": 10,
   "id": "aabe9f99",
   "metadata": {},
   "outputs": [],
   "source": [
    "callbacks = [keras.callbacks.EarlyStopping(monitor='acc',patience=1),\n",
    "             keras.callbacks.ReduceLROnPlateau(monitor='val_loss',factor=0.1,patience=5)]"
   ]
  },
  {
   "cell_type": "code",
   "execution_count": 33,
   "id": "15e96aa5",
   "metadata": {},
   "outputs": [],
   "source": [
    "dropout_model3 = tf.keras.Sequential()\n",
    "dropout_model3.add(layers.Conv2D(32, (3,3), activation='relu', input_shape=(32,32,3)))\n",
    "dropout_model3.add(layers.MaxPooling2D((2,2)))\n",
    "dropout_model3.add(layers.Dropout(0.5))\n",
    "dropout_model3.add(layers.Conv2D(64, (3,3), activation='relu'))\n",
    "dropout_model3.add(layers.MaxPooling2D((2,2)))\n",
    "dropout_model3.add(layers.Conv2D(64, (3,3), activation='relu'))\n",
    "dropout_model3.add(layers.Flatten())\n",
    "dropout_model3.add(layers.Dropout(0.5))\n",
    "dropout_model3.add(layers.Dense(128, activation='relu'))\n",
    "dropout_model3.add(layers.Dense(29, activation='softmax'))\n",
    "dropout_model3.compile(optimizer='rmsprop',\n",
    "loss='categorical_crossentropy',\n",
    "metrics=['acc'])"
   ]
  },
  {
   "cell_type": "code",
   "execution_count": 35,
   "id": "3d6f1479",
   "metadata": {},
   "outputs": [
    {
     "name": "stdout",
     "output_type": "stream",
     "text": [
      "Model: \"sequential_4\"\n",
      "_________________________________________________________________\n",
      " Layer (type)                Output Shape              Param #   \n",
      "=================================================================\n",
      " conv2d_8 (Conv2D)           (None, 30, 30, 32)        896       \n",
      "                                                                 \n",
      " max_pooling2d_5 (MaxPooling  (None, 15, 15, 32)       0         \n",
      " 2D)                                                             \n",
      "                                                                 \n",
      " dropout_6 (Dropout)         (None, 15, 15, 32)        0         \n",
      "                                                                 \n",
      " conv2d_9 (Conv2D)           (None, 13, 13, 64)        18496     \n",
      "                                                                 \n",
      " max_pooling2d_6 (MaxPooling  (None, 6, 6, 64)         0         \n",
      " 2D)                                                             \n",
      "                                                                 \n",
      " conv2d_10 (Conv2D)          (None, 4, 4, 64)          36928     \n",
      "                                                                 \n",
      " flatten_4 (Flatten)         (None, 1024)              0         \n",
      "                                                                 \n",
      " dropout_7 (Dropout)         (None, 1024)              0         \n",
      "                                                                 \n",
      " dense_8 (Dense)             (None, 128)               131200    \n",
      "                                                                 \n",
      " dense_9 (Dense)             (None, 29)                3741      \n",
      "                                                                 \n",
      "=================================================================\n",
      "Total params: 191,261\n",
      "Trainable params: 191,261\n",
      "Non-trainable params: 0\n",
      "_________________________________________________________________\n"
     ]
    }
   ],
   "source": [
    "dropout_model3.summary()"
   ]
  },
  {
   "cell_type": "code",
   "execution_count": 34,
   "id": "e443632b",
   "metadata": {
    "scrolled": true
   },
   "outputs": [
    {
     "name": "stdout",
     "output_type": "stream",
     "text": [
      "Epoch 1/10\n",
      "1088/1088 [==============================] - 148s 135ms/step - loss: 2.0414 - acc: 0.3827 - val_loss: 1.6562 - val_acc: 0.4751 - lr: 0.0010\n",
      "Epoch 2/10\n",
      "1088/1088 [==============================] - 151s 138ms/step - loss: 0.8634 - acc: 0.7140 - val_loss: 1.3615 - val_acc: 0.5768 - lr: 0.0010\n",
      "Epoch 3/10\n",
      "1088/1088 [==============================] - 166s 153ms/step - loss: 0.5434 - acc: 0.8144 - val_loss: 1.1943 - val_acc: 0.6440 - lr: 0.0010\n",
      "Epoch 4/10\n",
      "1088/1088 [==============================] - 164s 150ms/step - loss: 0.3943 - acc: 0.8643 - val_loss: 1.4395 - val_acc: 0.6394 - lr: 0.0010\n",
      "Epoch 5/10\n",
      "1088/1088 [==============================] - 155s 143ms/step - loss: 0.3119 - acc: 0.8933 - val_loss: 1.1966 - val_acc: 0.6954 - lr: 0.0010\n",
      "Epoch 6/10\n",
      "1088/1088 [==============================] - 166s 153ms/step - loss: 0.2600 - acc: 0.9103 - val_loss: 1.3767 - val_acc: 0.6882 - lr: 0.0010\n",
      "Epoch 7/10\n",
      "1088/1088 [==============================] - 162s 149ms/step - loss: 0.2223 - acc: 0.9251 - val_loss: 1.4890 - val_acc: 0.6629 - lr: 0.0010\n",
      "Epoch 8/10\n",
      "1088/1088 [==============================] - 187s 172ms/step - loss: 0.1995 - acc: 0.9323 - val_loss: 1.3720 - val_acc: 0.7145 - lr: 0.0010\n",
      "Epoch 9/10\n",
      "1088/1088 [==============================] - 196s 180ms/step - loss: 0.1139 - acc: 0.9612 - val_loss: 1.2857 - val_acc: 0.7425 - lr: 1.0000e-04\n",
      "Epoch 10/10\n",
      "1088/1088 [==============================] - 197s 181ms/step - loss: 0.1031 - acc: 0.9648 - val_loss: 1.3586 - val_acc: 0.7347 - lr: 1.0000e-04\n"
     ]
    }
   ],
   "source": [
    "dropout_model3_history = dropout_model3.fit(train_dataset, \n",
    "                                            epochs=10, \n",
    "                                            batch_size=batch_size, \n",
    "                                            callbacks=callbacks, \n",
    "                                            validation_data=val_dataset)"
   ]
  },
  {
   "cell_type": "code",
   "execution_count": 41,
   "id": "d6ab459e",
   "metadata": {},
   "outputs": [],
   "source": [
    "loss = dropout_model3_history.history['loss']\n",
    "val_loss = dropout_model3_history.history['val_loss']\n",
    "acc = dropout_model3_history.history['acc']\n",
    "val_acc = dropout_model3_history.history['val_acc']"
   ]
  },
  {
   "cell_type": "code",
   "execution_count": 42,
   "id": "31547606",
   "metadata": {},
   "outputs": [
    {
     "data": {
      "image/png": "[encoded data removed]",
      "text/plain": [
       "<Figure size 432x288 with 1 Axes>"
      ]
     },
     "metadata": {
      "needs_background": "light"
     },
     "output_type": "display_data"
    }
   ],
   "source": [
    "plot_epochs(range(1, len(loss) + 1),\n",
    "acc, 'bo', 'Training', val_acc, 'b',\n",
    "'Validation', 'Training and validation accuracy',\n",
    "'Epochs', 'Accuracy')"
   ]
  },
  {
   "cell_type": "code",
   "execution_count": 43,
   "id": "2aed49e0",
   "metadata": {},
   "outputs": [
    {
     "data": {
      "image/png": "[encoded data removed]",
      "text/plain": [
       "<Figure size 432x288 with 1 Axes>"
      ]
     },
     "metadata": {
      "needs_background": "light"
     },
     "output_type": "display_data"
    }
   ],
   "source": [
    "plot_epochs(range(1,len(loss) + 1),\n",
    "            loss, 'bo','Training',\n",
    "            val_loss,'b','Validation',\n",
    "            'Training and validation loss',\n",
    "            'Epochs','Loss')"
   ]
  },
  {
   "cell_type": "markdown",
   "id": "b477bd34",
   "metadata": {},
   "source": [
    "### 3.4 Increasing epochs"
   ]
  },
  {
   "cell_type": "code",
   "execution_count": 45,
   "id": "8a9e1317",
   "metadata": {},
   "outputs": [],
   "source": [
    "dropout_model4 = tf.keras.Sequential()\n",
    "dropout_model4.add(layers.Conv2D(32, (3,3), activation='relu', input_shape=(32,32,3)))\n",
    "dropout_model4.add(layers.MaxPooling2D((2,2)))\n",
    "dropout_model4.add(layers.Dropout(0.5))\n",
    "dropout_model4.add(layers.Conv2D(64, (3,3), activation='relu'))\n",
    "dropout_model4.add(layers.MaxPooling2D((2,2)))\n",
    "dropout_model4.add(layers.Conv2D(64, (3,3), activation='relu'))\n",
    "dropout_model4.add(layers.Flatten())\n",
    "dropout_model4.add(layers.Dropout(0.5))\n",
    "dropout_model4.add(layers.Dense(128, activation='relu'))\n",
    "dropout_model4.add(layers.Dense(29, activation='softmax'))\n",
    "dropout_model4.compile(optimizer='rmsprop',\n",
    "loss='categorical_crossentropy',\n",
    "metrics=['acc'])"
   ]
  },
  {
   "cell_type": "code",
   "execution_count": 46,
   "id": "7e6bbf95",
   "metadata": {},
   "outputs": [
    {
     "name": "stdout",
     "output_type": "stream",
     "text": [
      "Model: \"sequential_6\"\n",
      "_________________________________________________________________\n",
      " Layer (type)                Output Shape              Param #   \n",
      "=================================================================\n",
      " conv2d_14 (Conv2D)          (None, 30, 30, 32)        896       \n",
      "                                                                 \n",
      " max_pooling2d_9 (MaxPooling  (None, 15, 15, 32)       0         \n",
      " 2D)                                                             \n",
      "                                                                 \n",
      " dropout_10 (Dropout)        (None, 15, 15, 32)        0         \n",
      "                                                                 \n",
      " conv2d_15 (Conv2D)          (None, 13, 13, 64)        18496     \n",
      "                                                                 \n",
      " max_pooling2d_10 (MaxPoolin  (None, 6, 6, 64)         0         \n",
      " g2D)                                                            \n",
      "                                                                 \n",
      " conv2d_16 (Conv2D)          (None, 4, 4, 64)          36928     \n",
      "                                                                 \n",
      " flatten_6 (Flatten)         (None, 1024)              0         \n",
      "                                                                 \n",
      " dropout_11 (Dropout)        (None, 1024)              0         \n",
      "                                                                 \n",
      " dense_12 (Dense)            (None, 128)               131200    \n",
      "                                                                 \n",
      " dense_13 (Dense)            (None, 29)                3741      \n",
      "                                                                 \n",
      "=================================================================\n",
      "Total params: 191,261\n",
      "Trainable params: 191,261\n",
      "Non-trainable params: 0\n",
      "_________________________________________________________________\n"
     ]
    }
   ],
   "source": [
    "dropout_model4.summary()"
   ]
  },
  {
   "cell_type": "code",
   "execution_count": 47,
   "id": "54e525d8",
   "metadata": {},
   "outputs": [
    {
     "name": "stdout",
     "output_type": "stream",
     "text": [
      "Epoch 1/20\n",
      "1088/1088 [==============================] - 195s 178ms/step - loss: 2.0009 - acc: 0.3979 - val_loss: 1.6793 - val_acc: 0.4879 - lr: 0.0010\n",
      "Epoch 2/20\n",
      "1088/1088 [==============================] - 191s 176ms/step - loss: 0.8288 - acc: 0.7244 - val_loss: 1.2266 - val_acc: 0.6235 - lr: 0.0010\n",
      "Epoch 3/20\n",
      "1088/1088 [==============================] - 192s 176ms/step - loss: 0.5082 - acc: 0.8263 - val_loss: 1.1617 - val_acc: 0.6733 - lr: 0.0010\n",
      "Epoch 4/20\n",
      "1088/1088 [==============================] - 191s 176ms/step - loss: 0.3665 - acc: 0.8743 - val_loss: 1.0079 - val_acc: 0.7279 - lr: 0.0010\n",
      "Epoch 5/20\n",
      "1088/1088 [==============================] - 7630s 7s/step - loss: 0.2918 - acc: 0.8997 - val_loss: 1.1363 - val_acc: 0.7130 - lr: 0.0010\n",
      "Epoch 6/20\n",
      "1088/1088 [==============================] - 138s 127ms/step - loss: 0.2487 - acc: 0.9160 - val_loss: 1.0256 - val_acc: 0.7425 - lr: 0.0010\n",
      "Epoch 7/20\n",
      "1088/1088 [==============================] - 127s 117ms/step - loss: 0.2142 - acc: 0.9267 - val_loss: 1.1156 - val_acc: 0.7426 - lr: 0.0010\n",
      "Epoch 8/20\n",
      "1088/1088 [==============================] - 143s 132ms/step - loss: 0.1971 - acc: 0.9334 - val_loss: 0.9213 - val_acc: 0.7660 - lr: 0.0010\n",
      "Epoch 9/20\n",
      "1088/1088 [==============================] - 160s 147ms/step - loss: 0.1756 - acc: 0.9405 - val_loss: 1.0486 - val_acc: 0.7799 - lr: 0.0010\n",
      "Epoch 10/20\n",
      "1088/1088 [==============================] - 152s 140ms/step - loss: 0.1670 - acc: 0.9438 - val_loss: 1.0076 - val_acc: 0.7749 - lr: 0.0010\n",
      "Epoch 11/20\n",
      "1088/1088 [==============================] - 149s 137ms/step - loss: 0.1547 - acc: 0.9491 - val_loss: 1.0562 - val_acc: 0.7520 - lr: 0.0010\n",
      "Epoch 12/20\n",
      "1088/1088 [==============================] - 147s 135ms/step - loss: 0.1427 - acc: 0.9524 - val_loss: 1.3157 - val_acc: 0.7086 - lr: 0.0010\n",
      "Epoch 13/20\n",
      "1088/1088 [==============================] - 150s 137ms/step - loss: 0.1394 - acc: 0.9537 - val_loss: 1.0993 - val_acc: 0.7757 - lr: 0.0010\n",
      "Epoch 14/20\n",
      "1088/1088 [==============================] - 150s 138ms/step - loss: 0.0720 - acc: 0.9756 - val_loss: 1.1814 - val_acc: 0.7806 - lr: 1.0000e-04\n",
      "Epoch 15/20\n",
      "1088/1088 [==============================] - 148s 136ms/step - loss: 0.0638 - acc: 0.9782 - val_loss: 1.2182 - val_acc: 0.7811 - lr: 1.0000e-04\n",
      "Epoch 16/20\n",
      "1088/1088 [==============================] - 150s 138ms/step - loss: 0.0609 - acc: 0.9789 - val_loss: 1.2302 - val_acc: 0.7814 - lr: 1.0000e-04\n",
      "Epoch 17/20\n",
      "1088/1088 [==============================] - 150s 137ms/step - loss: 0.0578 - acc: 0.9799 - val_loss: 1.2645 - val_acc: 0.7828 - lr: 1.0000e-04\n",
      "Epoch 18/20\n",
      "1088/1088 [==============================] - 148s 136ms/step - loss: 0.0576 - acc: 0.9803 - val_loss: 1.1811 - val_acc: 0.7860 - lr: 1.0000e-04\n",
      "Epoch 19/20\n",
      "1088/1088 [==============================] - 148s 136ms/step - loss: 0.0525 - acc: 0.9820 - val_loss: 1.1842 - val_acc: 0.7871 - lr: 1.0000e-05\n",
      "Epoch 20/20\n",
      "1088/1088 [==============================] - 149s 137ms/step - loss: 0.0525 - acc: 0.9820 - val_loss: 1.2080 - val_acc: 0.7859 - lr: 1.0000e-05\n"
     ]
    }
   ],
   "source": [
    "dropout_model4_history = dropout_model4.fit(train_dataset, \n",
    "                                            epochs=20, \n",
    "                                            batch_size=batch_size, \n",
    "                                            callbacks=callbacks, \n",
    "                                            validation_data=val_dataset)"
   ]
  },
  {
   "cell_type": "code",
   "execution_count": 48,
   "id": "43a5c078",
   "metadata": {},
   "outputs": [],
   "source": [
    "loss = dropout_model4_history.history['loss']\n",
    "val_loss = dropout_model4_history.history['val_loss']\n",
    "acc = dropout_model4_history.history['acc']\n",
    "val_acc = dropout_model4_history.history['val_acc']"
   ]
  },
  {
   "cell_type": "code",
   "execution_count": 49,
   "id": "f48ce70b",
   "metadata": {},
   "outputs": [
    {
     "data": {
      "image/png": "[encoded data removed]",
      "text/plain": [
       "<Figure size 432x288 with 1 Axes>"
      ]
     },
     "metadata": {
      "needs_background": "light"
     },
     "output_type": "display_data"
    }
   ],
   "source": [
    "plot_epochs(range(1, len(loss) + 1),\n",
    "acc, 'bo', 'Training', val_acc, 'b',\n",
    "'Validation', 'Training and validation accuracy',\n",
    "'Epochs', 'Accuracy')"
   ]
  },
  {
   "cell_type": "code",
   "execution_count": 50,
   "id": "81c72d9a",
   "metadata": {
    "scrolled": true
   },
   "outputs": [
    {
     "data": {
      "image/png": "[encoded data removed]",
      "text/plain": [
       "<Figure size 432x288 with 1 Axes>"
      ]
     },
     "metadata": {
      "needs_background": "light"
     },
     "output_type": "display_data"
    }
   ],
   "source": [
    "plot_epochs(range(1,len(loss) + 1),\n",
    "            loss, 'bo','Training',\n",
    "            val_loss,'b','Validation',\n",
    "            'Training and validation loss',\n",
    "            'Epochs','Loss')"
   ]
  },
  {
   "cell_type": "markdown",
   "id": "dca75117",
   "metadata": {},
   "source": [
    "8 epochs seem to be a good amount"
   ]
  },
  {
   "cell_type": "markdown",
   "id": "70e9b3ad",
   "metadata": {},
   "source": [
    "### 3.5 Adding batch normalisation"
   ]
  },
  {
   "cell_type": "code",
   "execution_count": 51,
   "id": "f4dfae24",
   "metadata": {},
   "outputs": [],
   "source": [
    "normal_model = tf.keras.Sequential()\n",
    "normal_model.add(layers.Conv2D(32, (3,3), activation='relu', input_shape=(32,32,3)))\n",
    "normal_model.add(layers.MaxPooling2D((2,2)))\n",
    "normal_model.add(layers.Dropout(0.5))\n",
    "normal_model.add(layers.Conv2D(64, (3,3), activation='relu'))\n",
    "normal_model.add(layers.BatchNormalization())\n",
    "normal_model.add(layers.Conv2D(64, (3,3), activation='relu'))\n",
    "normal_model.add(layers.Flatten())\n",
    "normal_model.add(layers.Dropout(0.5))\n",
    "normal_model.add(layers.Dense(128, activation='relu'))\n",
    "normal_model.add(layers.BatchNormalization())\n",
    "normal_model.add(layers.Dense(29, activation='softmax'))\n",
    "normal_model.compile(optimizer='rmsprop',\n",
    "loss='categorical_crossentropy',\n",
    "metrics=['acc'])"
   ]
  },
  {
   "cell_type": "code",
   "execution_count": 52,
   "id": "61c94dff",
   "metadata": {},
   "outputs": [
    {
     "name": "stdout",
     "output_type": "stream",
     "text": [
      "Model: \"sequential_7\"\n",
      "_________________________________________________________________\n",
      " Layer (type)                Output Shape              Param #   \n",
      "=================================================================\n",
      " conv2d_17 (Conv2D)          (None, 30, 30, 32)        896       \n",
      "                                                                 \n",
      " max_pooling2d_11 (MaxPoolin  (None, 15, 15, 32)       0         \n",
      " g2D)                                                            \n",
      "                                                                 \n",
      " dropout_12 (Dropout)        (None, 15, 15, 32)        0         \n",
      "                                                                 \n",
      " conv2d_18 (Conv2D)          (None, 13, 13, 64)        18496     \n",
      "                                                                 \n",
      " batch_normalization (BatchN  (None, 13, 13, 64)       256       \n",
      " ormalization)                                                   \n",
      "                                                                 \n",
      " conv2d_19 (Conv2D)          (None, 11, 11, 64)        36928     \n",
      "                                                                 \n",
      " flatten_7 (Flatten)         (None, 7744)              0         \n",
      "                                                                 \n",
      " dropout_13 (Dropout)        (None, 7744)              0         \n",
      "                                                                 \n",
      " dense_14 (Dense)            (None, 128)               991360    \n",
      "                                                                 \n",
      " batch_normalization_1 (Batc  (None, 128)              512       \n",
      " hNormalization)                                                 \n",
      "                                                                 \n",
      " dense_15 (Dense)            (None, 29)                3741      \n",
      "                                                                 \n",
      "=================================================================\n",
      "Total params: 1,052,189\n",
      "Trainable params: 1,051,805\n",
      "Non-trainable params: 384\n",
      "_________________________________________________________________\n"
     ]
    }
   ],
   "source": [
    "normal_model.summary()"
   ]
  },
  {
   "cell_type": "code",
   "execution_count": 53,
   "id": "68dfddf1",
   "metadata": {},
   "outputs": [
    {
     "name": "stdout",
     "output_type": "stream",
     "text": [
      "Epoch 1/8\n",
      "1088/1088 [==============================] - 184s 169ms/step - loss: 1.2648 - acc: 0.6316 - val_loss: 1.6609 - val_acc: 0.5595 - lr: 0.0010\n",
      "Epoch 2/8\n",
      "1088/1088 [==============================] - 187s 172ms/step - loss: 0.2434 - acc: 0.9229 - val_loss: 1.1272 - val_acc: 0.6854 - lr: 0.0010\n",
      "Epoch 3/8\n",
      "1088/1088 [==============================] - 190s 175ms/step - loss: 0.1261 - acc: 0.9588 - val_loss: 1.6777 - val_acc: 0.7149 - lr: 0.0010\n",
      "Epoch 4/8\n",
      "1088/1088 [==============================] - 191s 175ms/step - loss: 0.0870 - acc: 0.9709 - val_loss: 1.3885 - val_acc: 0.7128 - lr: 0.0010\n",
      "Epoch 5/8\n",
      "1088/1088 [==============================] - 191s 175ms/step - loss: 0.0660 - acc: 0.9779 - val_loss: 1.4215 - val_acc: 0.7276 - lr: 0.0010\n",
      "Epoch 6/8\n",
      "1088/1088 [==============================] - 194s 178ms/step - loss: 0.0538 - acc: 0.9821 - val_loss: 1.7536 - val_acc: 0.7237 - lr: 0.0010\n",
      "Epoch 7/8\n",
      "1088/1088 [==============================] - 201s 185ms/step - loss: 0.0465 - acc: 0.9837 - val_loss: 1.2030 - val_acc: 0.7536 - lr: 0.0010\n",
      "Epoch 8/8\n",
      "1088/1088 [==============================] - 189s 174ms/step - loss: 0.0206 - acc: 0.9934 - val_loss: 1.1972 - val_acc: 0.7673 - lr: 1.0000e-04\n"
     ]
    }
   ],
   "source": [
    "normal_model_history = normal_model.fit(train_dataset, \n",
    "                                            epochs=8, \n",
    "                                            batch_size=batch_size, \n",
    "                                            callbacks=callbacks, \n",
    "                                            validation_data=val_dataset)"
   ]
  },
  {
   "cell_type": "code",
   "execution_count": 54,
   "id": "25f38354",
   "metadata": {},
   "outputs": [],
   "source": [
    "loss = normal_model_history.history['loss']\n",
    "val_loss = normal_model_history.history['val_loss']\n",
    "acc = normal_model_history.history['acc']\n",
    "val_acc = normal_model_history.history['val_acc']"
   ]
  },
  {
   "cell_type": "code",
   "execution_count": 55,
   "id": "2f410957",
   "metadata": {},
   "outputs": [
    {
     "data": {
      "image/png": "[encoded data removed]",
      "text/plain": [
       "<Figure size 432x288 with 1 Axes>"
      ]
     },
     "metadata": {
      "needs_background": "light"
     },
     "output_type": "display_data"
    }
   ],
   "source": [
    "plot_epochs(range(1, len(loss) + 1),\n",
    "acc, 'bo', 'Training', val_acc, 'b',\n",
    "'Validation', 'Training and validation accuracy',\n",
    "'Epochs', 'Accuracy')"
   ]
  },
  {
   "cell_type": "code",
   "execution_count": 56,
   "id": "5210b6e3",
   "metadata": {
    "collapsed": true
   },
   "outputs": [
    {
     "data": {
      "image/png": "[encoded data removed]",
      "text/plain": [
       "<Figure size 432x288 with 1 Axes>"
      ]
     },
     "metadata": {
      "needs_background": "light"
     },
     "output_type": "display_data"
    }
   ],
   "source": [
    "plot_epochs(range(1,len(loss) + 1),\n",
    "            loss, 'bo','Training',\n",
    "            val_loss,'b','Validation',\n",
    "            'Training and validation loss',\n",
    "            'Epochs','Loss')"
   ]
  },
  {
   "cell_type": "markdown",
   "id": "78054100",
   "metadata": {},
   "source": [
    "## 4. Evaluating the best model"
   ]
  },
  {
   "cell_type": "markdown",
   "id": "d8b4f7a6",
   "metadata": {},
   "source": [
    "#### Data augmentation"
   ]
  },
  {
   "cell_type": "markdown",
   "id": "2b54f2eb",
   "metadata": {},
   "source": [
    "After finding the ideal architecture, the model will be retrained against augmented data so that it will have a higher chance of performing well against external data"
   ]
  },
  {
   "cell_type": "code",
   "execution_count": 28,
   "id": "f337566c",
   "metadata": {},
   "outputs": [],
   "source": [
    "aug_datagen = ImageDataGenerator(rescale=1/255.0, \n",
    "                                 zoom_range=0.1,\n",
    "                                 rotation_range=45,\n",
    "                                 horizontal_flip=False,\n",
    "                                 width_shift_range=0.1,\n",
    "                                 height_shift_range=0.1,\n",
    "                                 fill_mode='nearest',\n",
    "                                 validation_split = 0.2)\n",
    "batch_size = 64\n",
    "height, width = (32,32)"
   ]
  },
  {
   "cell_type": "code",
   "execution_count": 29,
   "id": "2b2ff892",
   "metadata": {},
   "outputs": [
    {
     "name": "stdout",
     "output_type": "stream",
     "text": [
      "Found 69600 images belonging to 29 classes.\n",
      "Found 17400 images belonging to 29 classes.\n"
     ]
    }
   ],
   "source": [
    "train_dataset = aug_datagen.flow_from_directory(\n",
    "TRAIN_DIR,\n",
    "target_size = (height, width),\n",
    "batch_size = batch_size,\n",
    "class_mode='categorical',\n",
    "subset = 'training',\n",
    "shuffle=True\n",
    ")\n",
    "\n",
    "val_dataset = aug_datagen.flow_from_directory(\n",
    "TRAIN_DIR,\n",
    "target_size = (height, width),\n",
    "class_mode='categorical',\n",
    "batch_size = batch_size,\n",
    "subset = 'validation',\n",
    "shuffle=False\n",
    ")"
   ]
  },
  {
   "cell_type": "markdown",
   "id": "a9944d72",
   "metadata": {},
   "source": [
    "Based on the implemented models' results and choosing the best combination of validation loss and validation accuracy, the model chosen to test against the test data is the architecture used by the <b>dropout_model4</b> at <b>8 epochs</b>."
   ]
  },
  {
   "cell_type": "markdown",
   "id": "8beb2687",
   "metadata": {},
   "source": [
    "### 4.1 Training with the correct parameters"
   ]
  },
  {
   "cell_type": "code",
   "execution_count": 53,
   "id": "01f16d90",
   "metadata": {},
   "outputs": [],
   "source": [
    "final_model = tf.keras.Sequential()\n",
    "final_model.add(layers.Conv2D(32, (3,3), activation='relu', input_shape=(32,32,3)))\n",
    "final_model.add(layers.MaxPooling2D((2,2)))\n",
    "final_model.add(layers.Dropout(0.5))\n",
    "final_model.add(layers.Conv2D(64, (3,3), activation='relu'))\n",
    "final_model.add(layers.MaxPooling2D((2,2)))\n",
    "final_model.add(layers.Conv2D(64, (3,3), activation='relu'))\n",
    "final_model.add(layers.Flatten())\n",
    "final_model.add(layers.Dropout(0.5))\n",
    "final_model.add(layers.Dense(128, activation='relu'))\n",
    "final_model.add(layers.Dense(29, activation='softmax'))\n",
    "final_model.compile(optimizer='rmsprop',\n",
    "loss='categorical_crossentropy',\n",
    "metrics=['accuracy', precision_m, recall_m, f1_m])"
   ]
  },
  {
   "cell_type": "code",
   "execution_count": 55,
   "id": "d788bc25",
   "metadata": {},
   "outputs": [
    {
     "name": "stdout",
     "output_type": "stream",
     "text": [
      "Epoch 1/20\n",
      "1088/1088 [==============================] - ETA: 0s - loss: 2.7998 - accuracy: 0.1896 - precision_m: 0.4471 - recall_m: 0.0387 - f1_m: 0.0691WARNING:tensorflow:Early stopping conditioned on metric `acc` which is not available. Available metrics are: loss,accuracy,precision_m,recall_m,f1_m,val_loss,val_accuracy,val_precision_m,val_recall_m,val_f1_m\n",
      "1088/1088 [==============================] - 969s 890ms/step - loss: 2.7998 - accuracy: 0.1896 - precision_m: 0.4471 - recall_m: 0.0387 - f1_m: 0.0691 - val_loss: 2.5167 - val_accuracy: 0.2557 - val_precision_m: 0.3914 - val_recall_m: 0.0801 - val_f1_m: 0.1062 - lr: 0.0010\n",
      "Epoch 2/20\n",
      "1088/1088 [==============================] - ETA: 0s - loss: 1.9045 - accuracy: 0.4103 - precision_m: 0.7513 - recall_m: 0.2166 - f1_m: 0.3309WARNING:tensorflow:Early stopping conditioned on metric `acc` which is not available. Available metrics are: loss,accuracy,precision_m,recall_m,f1_m,val_loss,val_accuracy,val_precision_m,val_recall_m,val_f1_m\n",
      "1088/1088 [==============================] - 208s 191ms/step - loss: 1.9045 - accuracy: 0.4103 - precision_m: 0.7513 - recall_m: 0.2166 - f1_m: 0.3309 - val_loss: 1.9784 - val_accuracy: 0.3968 - val_precision_m: 0.6678 - val_recall_m: 0.1960 - val_f1_m: 0.2581 - lr: 0.0010\n",
      "Epoch 3/20\n",
      "1088/1088 [==============================] - ETA: 0s - loss: 1.4503 - accuracy: 0.5364 - precision_m: 0.7820 - recall_m: 0.3702 - f1_m: 0.4997WARNING:tensorflow:Early stopping conditioned on metric `acc` which is not available. Available metrics are: loss,accuracy,precision_m,recall_m,f1_m,val_loss,val_accuracy,val_precision_m,val_recall_m,val_f1_m\n",
      "1088/1088 [==============================] - 208s 191ms/step - loss: 1.4503 - accuracy: 0.5364 - precision_m: 0.7820 - recall_m: 0.3702 - f1_m: 0.4997 - val_loss: 1.6543 - val_accuracy: 0.4804 - val_precision_m: 0.7038 - val_recall_m: 0.2911 - val_f1_m: 0.3635 - lr: 0.0010\n",
      "Epoch 4/20\n",
      "1088/1088 [==============================] - ETA: 0s - loss: 1.1913 - accuracy: 0.6114 - precision_m: 0.8017 - recall_m: 0.4718 - f1_m: 0.5922WARNING:tensorflow:Early stopping conditioned on metric `acc` which is not available. Available metrics are: loss,accuracy,precision_m,recall_m,f1_m,val_loss,val_accuracy,val_precision_m,val_recall_m,val_f1_m\n",
      "1088/1088 [==============================] - 204s 188ms/step - loss: 1.1913 - accuracy: 0.6114 - precision_m: 0.8017 - recall_m: 0.4718 - f1_m: 0.5922 - val_loss: 1.5314 - val_accuracy: 0.5235 - val_precision_m: 0.7190 - val_recall_m: 0.3830 - val_f1_m: 0.4540 - lr: 0.0010\n",
      "Epoch 5/20\n",
      "1088/1088 [==============================] - ETA: 0s - loss: 1.0304 - accuracy: 0.6602 - precision_m: 0.8136 - recall_m: 0.5418 - f1_m: 0.6490WARNING:tensorflow:Early stopping conditioned on metric `acc` which is not available. Available metrics are: loss,accuracy,precision_m,recall_m,f1_m,val_loss,val_accuracy,val_precision_m,val_recall_m,val_f1_m\n",
      "1088/1088 [==============================] - 204s 187ms/step - loss: 1.0304 - accuracy: 0.6602 - precision_m: 0.8136 - recall_m: 0.5418 - f1_m: 0.6490 - val_loss: 1.4500 - val_accuracy: 0.5555 - val_precision_m: 0.7037 - val_recall_m: 0.4521 - val_f1_m: 0.5201 - lr: 0.0010\n",
      "Epoch 6/20\n",
      "1088/1088 [==============================] - ETA: 0s - loss: 0.9058 - accuracy: 0.6984 - precision_m: 0.8262 - recall_m: 0.6003 - f1_m: 0.6942WARNING:tensorflow:Early stopping conditioned on metric `acc` which is not available. Available metrics are: loss,accuracy,precision_m,recall_m,f1_m,val_loss,val_accuracy,val_precision_m,val_recall_m,val_f1_m\n",
      "1088/1088 [==============================] - 207s 191ms/step - loss: 0.9058 - accuracy: 0.6984 - precision_m: 0.8262 - recall_m: 0.6003 - f1_m: 0.6942 - val_loss: 1.3261 - val_accuracy: 0.6094 - val_precision_m: 0.7239 - val_recall_m: 0.5019 - val_f1_m: 0.5676 - lr: 0.0010\n",
      "Epoch 7/20\n",
      "1088/1088 [==============================] - ETA: 0s - loss: 0.8191 - accuracy: 0.7257 - precision_m: 0.8324 - recall_m: 0.6407 - f1_m: 0.7232WARNING:tensorflow:Early stopping conditioned on metric `acc` which is not available. Available metrics are: loss,accuracy,precision_m,recall_m,f1_m,val_loss,val_accuracy,val_precision_m,val_recall_m,val_f1_m\n",
      "1088/1088 [==============================] - 205s 189ms/step - loss: 0.8191 - accuracy: 0.7257 - precision_m: 0.8324 - recall_m: 0.6407 - f1_m: 0.7232 - val_loss: 1.2020 - val_accuracy: 0.6421 - val_precision_m: 0.7477 - val_recall_m: 0.5636 - val_f1_m: 0.6218 - lr: 0.0010\n",
      "Epoch 8/20\n",
      "1088/1088 [==============================] - ETA: 0s - loss: 0.7528 - accuracy: 0.7482 - precision_m: 0.8421 - recall_m: 0.6741 - f1_m: 0.7480WARNING:tensorflow:Early stopping conditioned on metric `acc` which is not available. Available metrics are: loss,accuracy,precision_m,recall_m,f1_m,val_loss,val_accuracy,val_precision_m,val_recall_m,val_f1_m\n",
      "1088/1088 [==============================] - 203s 187ms/step - loss: 0.7528 - accuracy: 0.7482 - precision_m: 0.8421 - recall_m: 0.6741 - f1_m: 0.7480 - val_loss: 1.2663 - val_accuracy: 0.6152 - val_precision_m: 0.6903 - val_recall_m: 0.5508 - val_f1_m: 0.5995 - lr: 0.0010\n",
      "Epoch 9/20\n",
      "1088/1088 [==============================] - ETA: 0s - loss: 0.7000 - accuracy: 0.7650 - precision_m: 0.8461 - recall_m: 0.6997 - f1_m: 0.7653WARNING:tensorflow:Early stopping conditioned on metric `acc` which is not available. Available metrics are: loss,accuracy,precision_m,recall_m,f1_m,val_loss,val_accuracy,val_precision_m,val_recall_m,val_f1_m\n",
      "1088/1088 [==============================] - 199s 183ms/step - loss: 0.7000 - accuracy: 0.7650 - precision_m: 0.8461 - recall_m: 0.6997 - f1_m: 0.7653 - val_loss: 1.2431 - val_accuracy: 0.6252 - val_precision_m: 0.7201 - val_recall_m: 0.5484 - val_f1_m: 0.6057 - lr: 0.0010\n",
      "Epoch 10/20\n",
      "1088/1088 [==============================] - ETA: 0s - loss: 0.6559 - accuracy: 0.7801 - precision_m: 0.8538 - recall_m: 0.7218 - f1_m: 0.7817WARNING:tensorflow:Early stopping conditioned on metric `acc` which is not available. Available metrics are: loss,accuracy,precision_m,recall_m,f1_m,val_loss,val_accuracy,val_precision_m,val_recall_m,val_f1_m\n",
      "1088/1088 [==============================] - 198s 182ms/step - loss: 0.6559 - accuracy: 0.7801 - precision_m: 0.8538 - recall_m: 0.7218 - f1_m: 0.7817 - val_loss: 1.1932 - val_accuracy: 0.6490 - val_precision_m: 0.7304 - val_recall_m: 0.5820 - val_f1_m: 0.6321 - lr: 0.0010\n",
      "Epoch 11/20\n",
      "1088/1088 [==============================] - ETA: 0s - loss: 0.6300 - accuracy: 0.7884 - precision_m: 0.8562 - recall_m: 0.7368 - f1_m: 0.7915WARNING:tensorflow:Early stopping conditioned on metric `acc` which is not available. Available metrics are: loss,accuracy,precision_m,recall_m,f1_m,val_loss,val_accuracy,val_precision_m,val_recall_m,val_f1_m\n",
      "1088/1088 [==============================] - 200s 184ms/step - loss: 0.6300 - accuracy: 0.7884 - precision_m: 0.8562 - recall_m: 0.7368 - f1_m: 0.7915 - val_loss: 1.3625 - val_accuracy: 0.6274 - val_precision_m: 0.6954 - val_recall_m: 0.5732 - val_f1_m: 0.6174 - lr: 0.0010\n",
      "Epoch 12/20\n",
      "1088/1088 [==============================] - ETA: 0s - loss: 0.6025 - accuracy: 0.7959 - precision_m: 0.8587 - recall_m: 0.7466 - f1_m: 0.7982WARNING:tensorflow:Early stopping conditioned on metric `acc` which is not available. Available metrics are: loss,accuracy,precision_m,recall_m,f1_m,val_loss,val_accuracy,val_precision_m,val_recall_m,val_f1_m\n",
      "1088/1088 [==============================] - 208s 191ms/step - loss: 0.6025 - accuracy: 0.7959 - precision_m: 0.8587 - recall_m: 0.7466 - f1_m: 0.7982 - val_loss: 1.1657 - val_accuracy: 0.6641 - val_precision_m: 0.7330 - val_recall_m: 0.6054 - val_f1_m: 0.6510 - lr: 0.0010\n",
      "Epoch 13/20\n",
      "1088/1088 [==============================] - ETA: 0s - loss: 0.5784 - accuracy: 0.8056 - precision_m: 0.8633 - recall_m: 0.7605 - f1_m: 0.8082WARNING:tensorflow:Early stopping conditioned on metric `acc` which is not available. Available metrics are: loss,accuracy,precision_m,recall_m,f1_m,val_loss,val_accuracy,val_precision_m,val_recall_m,val_f1_m\n",
      "1088/1088 [==============================] - 204s 187ms/step - loss: 0.5784 - accuracy: 0.8056 - precision_m: 0.8633 - recall_m: 0.7605 - f1_m: 0.8082 - val_loss: 1.1009 - val_accuracy: 0.6786 - val_precision_m: 0.7371 - val_recall_m: 0.6327 - val_f1_m: 0.6731 - lr: 0.0010\n"
     ]
    },
    {
     "name": "stdout",
     "output_type": "stream",
     "text": [
      "Epoch 14/20\n",
      "1088/1088 [==============================] - ETA: 0s - loss: 0.5617 - accuracy: 0.8130 - precision_m: 0.8669 - recall_m: 0.7700 - f1_m: 0.8152WARNING:tensorflow:Early stopping conditioned on metric `acc` which is not available. Available metrics are: loss,accuracy,precision_m,recall_m,f1_m,val_loss,val_accuracy,val_precision_m,val_recall_m,val_f1_m\n",
      "1088/1088 [==============================] - 204s 187ms/step - loss: 0.5617 - accuracy: 0.8130 - precision_m: 0.8669 - recall_m: 0.7700 - f1_m: 0.8152 - val_loss: 1.0697 - val_accuracy: 0.6852 - val_precision_m: 0.7499 - val_recall_m: 0.6344 - val_f1_m: 0.6768 - lr: 0.0010\n",
      "Epoch 15/20\n",
      "1088/1088 [==============================] - ETA: 0s - loss: 0.5470 - accuracy: 0.8173 - precision_m: 0.8682 - recall_m: 0.7768 - f1_m: 0.8195WARNING:tensorflow:Early stopping conditioned on metric `acc` which is not available. Available metrics are: loss,accuracy,precision_m,recall_m,f1_m,val_loss,val_accuracy,val_precision_m,val_recall_m,val_f1_m\n",
      "1088/1088 [==============================] - 211s 194ms/step - loss: 0.5470 - accuracy: 0.8173 - precision_m: 0.8682 - recall_m: 0.7768 - f1_m: 0.8195 - val_loss: 1.2373 - val_accuracy: 0.6553 - val_precision_m: 0.7082 - val_recall_m: 0.6108 - val_f1_m: 0.6484 - lr: 0.0010\n",
      "Epoch 16/20\n",
      "1088/1088 [==============================] - ETA: 0s - loss: 0.5317 - accuracy: 0.8226 - precision_m: 0.8718 - recall_m: 0.7838 - f1_m: 0.8251WARNING:tensorflow:Early stopping conditioned on metric `acc` which is not available. Available metrics are: loss,accuracy,precision_m,recall_m,f1_m,val_loss,val_accuracy,val_precision_m,val_recall_m,val_f1_m\n",
      "1088/1088 [==============================] - 215s 197ms/step - loss: 0.5317 - accuracy: 0.8226 - precision_m: 0.8718 - recall_m: 0.7838 - f1_m: 0.8251 - val_loss: 1.1618 - val_accuracy: 0.6983 - val_precision_m: 0.7407 - val_recall_m: 0.6644 - val_f1_m: 0.6954 - lr: 0.0010\n",
      "Epoch 17/20\n",
      "1088/1088 [==============================] - ETA: 0s - loss: 0.5251 - accuracy: 0.8257 - precision_m: 0.8716 - recall_m: 0.7882 - f1_m: 0.8274WARNING:tensorflow:Early stopping conditioned on metric `acc` which is not available. Available metrics are: loss,accuracy,precision_m,recall_m,f1_m,val_loss,val_accuracy,val_precision_m,val_recall_m,val_f1_m\n",
      "1088/1088 [==============================] - 212s 195ms/step - loss: 0.5251 - accuracy: 0.8257 - precision_m: 0.8716 - recall_m: 0.7882 - f1_m: 0.8274 - val_loss: 1.0969 - val_accuracy: 0.6949 - val_precision_m: 0.7403 - val_recall_m: 0.6573 - val_f1_m: 0.6901 - lr: 0.0010\n",
      "Epoch 18/20\n",
      "1088/1088 [==============================] - ETA: 0s - loss: 0.5133 - accuracy: 0.8291 - precision_m: 0.8731 - recall_m: 0.7940 - f1_m: 0.8313WARNING:tensorflow:Early stopping conditioned on metric `acc` which is not available. Available metrics are: loss,accuracy,precision_m,recall_m,f1_m,val_loss,val_accuracy,val_precision_m,val_recall_m,val_f1_m\n",
      "1088/1088 [==============================] - 222s 204ms/step - loss: 0.5133 - accuracy: 0.8291 - precision_m: 0.8731 - recall_m: 0.7940 - f1_m: 0.8313 - val_loss: 0.9601 - val_accuracy: 0.7053 - val_precision_m: 0.7613 - val_recall_m: 0.6609 - val_f1_m: 0.7005 - lr: 0.0010\n",
      "Epoch 19/20\n",
      "1088/1088 [==============================] - ETA: 0s - loss: 0.5061 - accuracy: 0.8323 - precision_m: 0.8769 - recall_m: 0.7983 - f1_m: 0.8354WARNING:tensorflow:Early stopping conditioned on metric `acc` which is not available. Available metrics are: loss,accuracy,precision_m,recall_m,f1_m,val_loss,val_accuracy,val_precision_m,val_recall_m,val_f1_m\n",
      "1088/1088 [==============================] - 205s 188ms/step - loss: 0.5061 - accuracy: 0.8323 - precision_m: 0.8769 - recall_m: 0.7983 - f1_m: 0.8354 - val_loss: 1.0204 - val_accuracy: 0.7076 - val_precision_m: 0.7481 - val_recall_m: 0.6717 - val_f1_m: 0.7033 - lr: 0.0010\n",
      "Epoch 20/20\n",
      "1088/1088 [==============================] - ETA: 0s - loss: 0.4918 - accuracy: 0.8352 - precision_m: 0.8764 - recall_m: 0.8040 - f1_m: 0.8383WARNING:tensorflow:Early stopping conditioned on metric `acc` which is not available. Available metrics are: loss,accuracy,precision_m,recall_m,f1_m,val_loss,val_accuracy,val_precision_m,val_recall_m,val_f1_m\n",
      "1088/1088 [==============================] - 210s 193ms/step - loss: 0.4918 - accuracy: 0.8352 - precision_m: 0.8764 - recall_m: 0.8040 - f1_m: 0.8383 - val_loss: 1.0419 - val_accuracy: 0.7152 - val_precision_m: 0.7544 - val_recall_m: 0.6799 - val_f1_m: 0.7109 - lr: 0.0010\n"
     ]
    }
   ],
   "source": [
    "final_model_history = final_model.fit(train_dataset, \n",
    "                                            epochs=20, \n",
    "                                            batch_size=batch_size, \n",
    "                                            callbacks=callbacks, \n",
    "                                            validation_data=val_dataset)"
   ]
  },
  {
   "cell_type": "code",
   "execution_count": 56,
   "id": "e422f9d2",
   "metadata": {},
   "outputs": [],
   "source": [
    "loss = final_model_history.history['loss']\n",
    "val_loss = final_model_history.history['val_loss']\n",
    "acc = final_model_history.history['accuracy']\n",
    "val_acc = final_model_history.history['val_accuracy']"
   ]
  },
  {
   "cell_type": "code",
   "execution_count": 57,
   "id": "e50d304e",
   "metadata": {},
   "outputs": [
    {
     "data": {
      "image/png": "[encoded data removed]",
      "text/plain": [
       "<Figure size 432x288 with 1 Axes>"
      ]
     },
     "metadata": {
      "needs_background": "light"
     },
     "output_type": "display_data"
    }
   ],
   "source": [
    "plot_epochs(range(1, len(loss) + 1),\n",
    "acc, 'bo', 'Training', val_acc, 'b',\n",
    "'Validation', 'Training and validation accuracy',\n",
    "'Epochs', 'Accuracy')"
   ]
  },
  {
   "cell_type": "code",
   "execution_count": 58,
   "id": "9e77e8dc",
   "metadata": {
    "scrolled": true
   },
   "outputs": [
    {
     "data": {
      "image/png": "[encoded data removed]",
      "text/plain": [
       "<Figure size 432x288 with 1 Axes>"
      ]
     },
     "metadata": {
      "needs_background": "light"
     },
     "output_type": "display_data"
    }
   ],
   "source": [
    "plot_epochs(range(1,len(loss) + 1),\n",
    "            loss, 'bo','Training',\n",
    "            val_loss,'b','Validation',\n",
    "            'Training and validation loss',\n",
    "            'Epochs','Loss')"
   ]
  },
  {
   "cell_type": "markdown",
   "id": "ab395c8a",
   "metadata": {},
   "source": [
    "### 4.2 Testing against the test set:"
   ]
  },
  {
   "cell_type": "code",
   "execution_count": 59,
   "id": "90769a8a",
   "metadata": {},
   "outputs": [
    {
     "name": "stdout",
     "output_type": "stream",
     "text": [
      "Found 29 images belonging to 29 classes.\n"
     ]
    }
   ],
   "source": [
    "testing_imgdatagen = ImageDataGenerator(rescale=1/255.0)\n",
    "test_dataset = testing_imgdatagen.flow_from_directory(\n",
    "TEST_DIR,\n",
    "target_size = (height, width),\n",
    "class_mode='categorical',\n",
    "batch_size = batch_size,\n",
    "shuffle=False\n",
    ")"
   ]
  },
  {
   "cell_type": "code",
   "execution_count": 52,
   "id": "0c57bcf5",
   "metadata": {},
   "outputs": [],
   "source": [
    "#as found on https://saturncloud.io/blog/calculating-precision-recall-and-f1-in-keras-v2-are-you-doing-it-right/\n",
    "from keras import backend as K\n",
    "\n",
    "def recall_m(y_true, y_pred):\n",
    "    true_positives = K.sum(K.round(K.clip(y_true * y_pred, 0, 1)))\n",
    "    possible_positives = K.sum(K.round(K.clip(y_true, 0, 1)))\n",
    "    recall = true_positives / (possible_positives + K.epsilon())\n",
    "    return recall\n",
    "\n",
    "def precision_m(y_true, y_pred):\n",
    "    true_positives = K.sum(K.round(K.clip(y_true * y_pred, 0, 1)))\n",
    "    predicted_positives = K.sum(K.round(K.clip(y_pred, 0, 1)))\n",
    "    precision = true_positives / (predicted_positives + K.epsilon())\n",
    "    return precision\n",
    "\n",
    "def f1_m(y_true, y_pred):\n",
    "    precision = precision_m(y_true, y_pred)\n",
    "    recall = recall_m(y_true, y_pred)\n",
    "    return 2*((precision*recall)/(precision+recall+K.epsilon()))"
   ]
  },
  {
   "cell_type": "code",
   "execution_count": 60,
   "id": "280b1412",
   "metadata": {
    "scrolled": true
   },
   "outputs": [
    {
     "name": "stdout",
     "output_type": "stream",
     "text": [
      "1/1 [==============================] - 0s 77ms/step - loss: 0.0395 - accuracy: 1.0000 - precision_m: 1.0000 - recall_m: 1.0000 - f1_m: 1.0000\n"
     ]
    }
   ],
   "source": [
    "test_loss, test_acc, precision, recall, f1_score =  final_model.evaluate(test_dataset)"
   ]
  },
  {
   "cell_type": "markdown",
   "id": "65a621d2",
   "metadata": {},
   "source": [
    "### 4.3 Testing against a different dataset:"
   ]
  },
  {
   "cell_type": "code",
   "execution_count": 61,
   "id": "98956c9e",
   "metadata": {},
   "outputs": [
    {
     "name": "stdout",
     "output_type": "stream",
     "text": [
      "Found 870 images belonging to 29 classes.\n"
     ]
    }
   ],
   "source": [
    "EXTERNAL_TEST_DIR = 'external_asl_data/asl-alphabet-test'\n",
    "external_dataset = testing_imgdatagen.flow_from_directory(\n",
    "EXTERNAL_TEST_DIR,\n",
    "target_size = (height, width),\n",
    "class_mode='categorical',\n",
    "batch_size = batch_size,\n",
    "shuffle=False\n",
    ")"
   ]
  },
  {
   "cell_type": "code",
   "execution_count": 63,
   "id": "415f1384",
   "metadata": {
    "scrolled": true
   },
   "outputs": [
    {
     "name": "stdout",
     "output_type": "stream",
     "text": [
      "14/14 [==============================] - 1s 59ms/step - loss: 13.8284 - accuracy: 0.1977 - precision_m: 0.2144 - recall_m: 0.1886 - f1_m: 0.2003\n"
     ]
    }
   ],
   "source": [
    "external_test_loss, external_test_acc, precision, recall, f1 =  final_model.evaluate(external_dataset)"
   ]
  },
  {
   "cell_type": "markdown",
   "id": "e92e148c",
   "metadata": {},
   "source": [
    "## 5. Results"
   ]
  },
  {
   "cell_type": "code",
   "execution_count": 64,
   "id": "9dacb078",
   "metadata": {},
   "outputs": [
    {
     "name": "stdout",
     "output_type": "stream",
     "text": [
      "1/1 [==============================] - 0s 137ms/step\n",
      "14/14 [==============================] - 1s 59ms/step\n"
     ]
    }
   ],
   "source": [
    "# Get predictions for the test set\n",
    "test_predictions = final_model.predict(test_dataset)\n",
    "test_pred_labels = np.argmax(test_predictions, axis=1)\n",
    "\n",
    "# Get predictions for the external test set\n",
    "external_test_predictions = final_model.predict(external_dataset)\n",
    "external_test_pred_labels = np.argmax(external_test_predictions, axis=1)"
   ]
  },
  {
   "cell_type": "code",
   "execution_count": 40,
   "id": "2095e0fc",
   "metadata": {},
   "outputs": [],
   "source": [
    "def plot_confusion_matrix(matrix, labels):\n",
    "    plt.figure(figsize=(8, 6))\n",
    "    sns.heatmap(matrix, annot=True, fmt='d', cmap='Blues', xticklabels=labels, yticklabels=labels)\n",
    "    plt.xlabel('Predicted')\n",
    "    plt.ylabel('True')\n",
    "    plt.show()"
   ]
  },
  {
   "cell_type": "code",
   "execution_count": 65,
   "id": "a3698585",
   "metadata": {},
   "outputs": [],
   "source": [
    "# Create confusion matrix for the test set\n",
    "test_true_labels = test_dataset.classes\n",
    "test_confusion_matrix = confusion_matrix(test_true_labels, test_pred_labels)\n",
    "\n",
    "# Create confusion matrix for the external test set\n",
    "external_true_labels = external_dataset.classes\n",
    "external_confusion_matrix = confusion_matrix(external_true_labels, external_test_pred_labels)"
   ]
  },
  {
   "cell_type": "code",
   "execution_count": 66,
   "id": "7ca006e5",
   "metadata": {},
   "outputs": [
    {
     "data": {
      "image/png": "[encoded data removed]",
      "text/plain": [
       "<Figure size 576x432 with 2 Axes>"
      ]
     },
     "metadata": {
      "needs_background": "light"
     },
     "output_type": "display_data"
    },
    {
     "data": {
      "image/png": "[encoded data removed]",
      "text/plain": [
       "<Figure size 576x432 with 2 Axes>"
      ]
     },
     "metadata": {
      "needs_background": "light"
     },
     "output_type": "display_data"
    }
   ],
   "source": [
    "# Plot confusion matrix for the test set\n",
    "plot_confusion_matrix(test_confusion_matrix, labels=test_dataset.class_indices.keys())\n",
    "\n",
    "# Plot confusion matrix for the external test set\n",
    "plot_confusion_matrix(external_confusion_matrix, labels=external_dataset.class_indices.keys())"
   ]
  }
 ],
 "metadata": {
  "kernelspec": {
   "display_name": "Python 3",
   "language": "python",
   "name": "python3"
  },
  "language_info": {
   "codemirror_mode": {
    "name": "ipython",
    "version": 3
   },
   "file_extension": ".py",
   "mimetype": "text/x-python",
   "name": "python",
   "nbconvert_exporter": "python",
   "pygments_lexer": "ipython3",
   "version": "3.8.8"
  }
 },
 "nbformat": 4,
 "nbformat_minor": 5
}
